{
 "cells": [
  {
   "cell_type": "markdown",
   "metadata": {
    "id": "QddSQ0phjTlU"
   },
   "source": [
    "# ***EECS553 Project Code - Figure 2***"
   ]
  },
  {
   "cell_type": "markdown",
   "metadata": {
    "id": "rw5qo6jgjtFo"
   },
   "source": [
    "***Libraries***"
   ]
  },
  {
   "cell_type": "code",
   "execution_count": 21,
   "metadata": {
    "id": "C5Wd968MQ1Kz"
   },
   "outputs": [],
   "source": [
    "import numpy as np\n",
    "import matplotlib.pyplot as plt\n",
    "import matplotlib\n",
    "import scipy.stats as st"
   ]
  },
  {
   "cell_type": "markdown",
   "metadata": {
    "id": "V-Ixp779joSp"
   },
   "source": [
    "***Parameters***"
   ]
  },
  {
   "cell_type": "code",
   "execution_count": 2,
   "metadata": {
    "id": "XGS5wT1UTvfg"
   },
   "outputs": [],
   "source": [
    "d = 2\n",
    "N = 200\n",
    "r = 0.1\n",
    "beta = 1.0\n",
    "alpha = 0.9\n",
    "vanilla_step = 5e-4\n",
    "lf_step = 5e-5\n",
    "hf_step = 0.3\n",
    "hlf_step = 0.05"
   ]
  },
  {
   "cell_type": "markdown",
   "metadata": {
    "id": "u7GWK_OIj2AB"
   },
   "source": [
    "***Logistic Regression Stuff***"
   ]
  },
  {
   "cell_type": "code",
   "execution_count": 6,
   "metadata": {
    "id": "sDqdPidGUZDo"
   },
   "outputs": [],
   "source": [
    "x0 = np.zeros(d)\n",
    "x_star = 0.5*np.ones(d)\n",
    "A = np.random.uniform(low=-1.0, high=1.0, size=[d,N])\n",
    "epsilonVector = np.random.uniform(low=-0.5, high=0.5, size=N)\n",
    "y = np.sign(A.T.dot(x_star) + epsilonVector)\n",
    "\n",
    "def phi(t):\n",
    "    return np.log(1 + np.exp(-t))\n",
    "\n",
    "objective = lambda x: (1/N)*np.sum(phi(A.T.dot(x) * y.T))"
   ]
  },
  {
   "cell_type": "code",
   "execution_count": 7,
   "metadata": {
    "id": "93pts1YaTCK3"
   },
   "outputs": [],
   "source": [
    "import scipy.optimize\n",
    "results = scipy.optimize.minimize(objective, x0, method='BFGS')\n",
    "x_opt = results.x"
   ]
  },
  {
   "cell_type": "code",
   "execution_count": 8,
   "metadata": {
    "colab": {
     "base_uri": "https://localhost:8080/"
    },
    "id": "CdSkd36ITxwq",
    "outputId": "1b598d72-aa4a-4704-f2c7-2b556fda7d84"
   },
   "outputs": [
    {
     "name": "stdout",
     "output_type": "stream",
     "text": [
      "0.34227320599403255\n",
      "0.6931471805599452\n",
      "0.3508739745659126\n"
     ]
    }
   ],
   "source": [
    "objectiveStar = objective(x_opt)\n",
    "print(objectiveStar)\n",
    "print(objective(x0))\n",
    "print(np.abs(objectiveStar - objective(x0)))"
   ]
  },
  {
   "cell_type": "markdown",
   "metadata": {
    "id": "qphiffXuj86B"
   },
   "source": [
    "***Vanilla SZO***"
   ]
  },
  {
   "cell_type": "code",
   "execution_count": 9,
   "metadata": {
    "id": "ruWrMVykZm0L"
   },
   "outputs": [],
   "source": [
    "def vanillaZO(x_old, stepsize, r, fun):\n",
    "  d = x_old.size\n",
    "  uk = np.random.randn(d)\n",
    "  uk = uk/np.linalg.norm(uk)\n",
    "  x_next = x_old - stepsize*(d/r)*fun(x_old + r*uk)*uk\n",
    "  return x_next"
   ]
  },
  {
   "cell_type": "markdown",
   "metadata": {
    "id": "kC5i8wpHsB5h"
   },
   "source": [
    "***LF-SZO***"
   ]
  },
  {
   "cell_type": "code",
   "execution_count": 10,
   "metadata": {
    "id": "yjrXIk4rtioy"
   },
   "outputs": [],
   "source": [
    "def lfZO(x_old, stepsize, r, fun, alpha, x_veryold):\n",
    "  d = x_old.size\n",
    "  uk = np.random.randn(d)\n",
    "  uk = uk/np.linalg.norm(uk)\n",
    "  x_next = x_old - stepsize*(d/r)*fun(x_old + r*uk)*uk + alpha*(x_old - x_veryold)\n",
    "  return x_next, x_old"
   ]
  },
  {
   "cell_type": "markdown",
   "metadata": {
    "id": "o0zx---YxEEl"
   },
   "source": [
    "***HF-SZO***"
   ]
  },
  {
   "cell_type": "code",
   "execution_count": 11,
   "metadata": {
    "id": "4Nt0ZcrtxNHY"
   },
   "outputs": [],
   "source": [
    "def hfZO(xk, stepsize, r, fun, beta, x_old, z_old, u_old):\n",
    "  d = xk.size\n",
    "  uk = np.random.randn(d)\n",
    "  uk = uk/np.linalg.norm(uk)\n",
    "  zk = (1-beta)*z_old + fun(xk + r*uk) - fun(x_old + r*u_old)\n",
    "  x_new = xk - stepsize*(d/r)*zk*uk\n",
    "  return x_new, xk, zk, uk\n"
   ]
  },
  {
   "cell_type": "markdown",
   "metadata": {
    "id": "1nLlWYpy4QrV"
   },
   "source": [
    "***HLF-SZO***"
   ]
  },
  {
   "cell_type": "code",
   "execution_count": 12,
   "metadata": {
    "id": "ghIBrE7o4UK_"
   },
   "outputs": [],
   "source": [
    "def hlfZO(x_old, stepsize, r, fun, alpha, beta, x_veryold, z_old, u_old):\n",
    "  d = x_old.size\n",
    "  uk = np.random.randn(d)\n",
    "  uk = uk/np.linalg.norm(uk)\n",
    "  zk = (1-beta)*z_old + fun(x_old + r*uk) - fun(x_veryold + r*u_old)\n",
    "  x_new = x_old - stepsize*(d/r)*zk*uk + alpha*(x_old - x_veryold)\n",
    "  return x_new, x_old, zk, uk"
   ]
  },
  {
   "cell_type": "markdown",
   "metadata": {
    "id": "ZVthe27xkAS3"
   },
   "source": [
    "***Figure 2 Code***"
   ]
  },
  {
   "cell_type": "code",
   "execution_count": 13,
   "metadata": {
    "colab": {
     "base_uri": "https://localhost:8080/",
     "height": 340
    },
    "collapsed": true,
    "id": "oHcaUAfxYPDh",
    "jupyter": {
     "outputs_hidden": true
    },
    "outputId": "74c0149d-a15c-4906-e32d-a48645e839d7",
    "tags": []
   },
   "outputs": [
    {
     "name": "stdout",
     "output_type": "stream",
     "text": [
      "0\n",
      "1\n",
      "2\n",
      "3\n",
      "4\n",
      "5\n",
      "6\n",
      "7\n",
      "8\n",
      "9\n",
      "10\n",
      "11\n",
      "12\n",
      "13\n",
      "14\n",
      "15\n",
      "16\n",
      "17\n",
      "18\n",
      "19\n",
      "20\n",
      "21\n",
      "22\n",
      "23\n",
      "24\n",
      "25\n",
      "26\n",
      "27\n",
      "28\n",
      "29\n",
      "30\n",
      "31\n",
      "32\n",
      "33\n",
      "34\n",
      "35\n",
      "36\n",
      "37\n",
      "38\n",
      "39\n",
      "40\n",
      "41\n",
      "42\n",
      "43\n",
      "44\n",
      "45\n",
      "46\n",
      "47\n",
      "48\n",
      "49\n",
      "50\n",
      "51\n",
      "52\n",
      "53\n",
      "54\n",
      "55\n",
      "56\n",
      "57\n",
      "58\n",
      "59\n",
      "60\n",
      "61\n",
      "62\n",
      "63\n",
      "64\n",
      "65\n",
      "66\n",
      "67\n",
      "68\n",
      "69\n",
      "70\n",
      "71\n",
      "72\n",
      "73\n",
      "74\n",
      "75\n",
      "76\n",
      "77\n",
      "78\n",
      "79\n",
      "80\n",
      "81\n",
      "82\n",
      "83\n",
      "84\n",
      "85\n",
      "86\n",
      "87\n",
      "88\n",
      "89\n",
      "90\n",
      "91\n",
      "92\n",
      "93\n",
      "94\n",
      "95\n",
      "96\n",
      "97\n",
      "98\n",
      "99\n",
      "100\n",
      "101\n",
      "102\n",
      "103\n",
      "104\n",
      "105\n",
      "106\n",
      "107\n",
      "108\n",
      "109\n",
      "110\n",
      "111\n",
      "112\n",
      "113\n",
      "114\n",
      "115\n",
      "116\n",
      "117\n",
      "118\n",
      "119\n",
      "120\n",
      "121\n",
      "122\n",
      "123\n",
      "124\n",
      "125\n",
      "126\n",
      "127\n",
      "128\n",
      "129\n",
      "130\n",
      "131\n",
      "132\n",
      "133\n",
      "134\n",
      "135\n",
      "136\n",
      "137\n",
      "138\n",
      "139\n",
      "140\n",
      "141\n",
      "142\n",
      "143\n",
      "144\n",
      "145\n",
      "146\n",
      "147\n",
      "148\n",
      "149\n",
      "150\n",
      "151\n",
      "152\n",
      "153\n",
      "154\n",
      "155\n",
      "156\n",
      "157\n",
      "158\n",
      "159\n",
      "160\n",
      "161\n",
      "162\n",
      "163\n",
      "164\n",
      "165\n",
      "166\n",
      "167\n",
      "168\n",
      "169\n",
      "170\n",
      "171\n",
      "172\n",
      "173\n",
      "174\n",
      "175\n",
      "176\n",
      "177\n",
      "178\n",
      "179\n",
      "180\n",
      "181\n",
      "182\n",
      "183\n",
      "184\n",
      "185\n",
      "186\n",
      "187\n",
      "188\n",
      "189\n",
      "190\n",
      "191\n",
      "192\n",
      "193\n",
      "194\n",
      "195\n",
      "196\n",
      "197\n",
      "198\n",
      "199\n"
     ]
    }
   ],
   "source": [
    "runs = 100000\n",
    "trials = 200\n",
    "vanillaRuns = np.zeros([trials, runs+1])\n",
    "lowConfidenceVanilla = np.zeros(runs+1)\n",
    "highConfidenceVanilla = np.zeros(runs+1)\n",
    "vanillaRuns[:,0] = objective(x0) #np.abs(objective(x0) - objectiveStar)\n",
    "for k in range(trials):\n",
    "  print(k)\n",
    "  x_new = x0.copy()\n",
    "  for i in range(runs):\n",
    "    x_new = vanillaZO(x_new, vanilla_step, r, objective)\n",
    "    vanillaRuns[k,i+1] = objective(x_new) #np.abs(objective(x_new) - objectiveStar)\n",
    "\n",
    "meanVanilla = np.mean(vanillaRuns, axis=0)"
   ]
  },
  {
   "cell_type": "code",
   "execution_count": 14,
   "metadata": {},
   "outputs": [],
   "source": [
    "for i in range(runs-1):\n",
    "  lowConfidenceVanilla[i], highConfidenceVanilla[i] = st.norm.interval(alpha=0.80, loc=np.mean(vanillaRuns[:,i+1]), scale=(np.sqrt(trials))*st.sem(vanillaRuns[:,i+1])) #st.t.interval(alpha=0.80, df=trials, loc=np.mean(vanillaRuns[:,i+1]), scale=st.sem(vanillaRuns[:,i+1]))\n",
    "lowConfidenceVanilla[-1] = lowConfidenceVanilla[-3]\n",
    "lowConfidenceVanilla[-2] = lowConfidenceVanilla[-3]\n",
    "highConfidenceVanilla[-1] = highConfidenceVanilla[-3]\n",
    "highConfidenceVanilla[-2] = highConfidenceVanilla[-3]"
   ]
  },
  {
   "cell_type": "code",
   "execution_count": 15,
   "metadata": {
    "collapsed": true,
    "id": "u3DuN1bHvHh7",
    "jupyter": {
     "outputs_hidden": true
    },
    "tags": []
   },
   "outputs": [
    {
     "name": "stdout",
     "output_type": "stream",
     "text": [
      "0\n",
      "1\n",
      "2\n",
      "3\n",
      "4\n",
      "5\n",
      "6\n",
      "7\n",
      "8\n",
      "9\n",
      "10\n",
      "11\n",
      "12\n",
      "13\n",
      "14\n",
      "15\n",
      "16\n",
      "17\n",
      "18\n",
      "19\n",
      "20\n",
      "21\n",
      "22\n",
      "23\n",
      "24\n",
      "25\n",
      "26\n",
      "27\n",
      "28\n",
      "29\n",
      "30\n",
      "31\n",
      "32\n",
      "33\n",
      "34\n",
      "35\n",
      "36\n",
      "37\n",
      "38\n",
      "39\n",
      "40\n",
      "41\n",
      "42\n",
      "43\n",
      "44\n",
      "45\n",
      "46\n",
      "47\n",
      "48\n",
      "49\n",
      "50\n",
      "51\n",
      "52\n",
      "53\n",
      "54\n",
      "55\n",
      "56\n",
      "57\n",
      "58\n",
      "59\n",
      "60\n",
      "61\n",
      "62\n",
      "63\n",
      "64\n",
      "65\n",
      "66\n",
      "67\n",
      "68\n",
      "69\n",
      "70\n",
      "71\n",
      "72\n",
      "73\n",
      "74\n",
      "75\n",
      "76\n",
      "77\n",
      "78\n",
      "79\n",
      "80\n",
      "81\n",
      "82\n",
      "83\n",
      "84\n",
      "85\n",
      "86\n",
      "87\n",
      "88\n",
      "89\n",
      "90\n",
      "91\n",
      "92\n",
      "93\n",
      "94\n",
      "95\n",
      "96\n",
      "97\n",
      "98\n",
      "99\n",
      "100\n",
      "101\n",
      "102\n",
      "103\n",
      "104\n",
      "105\n",
      "106\n",
      "107\n",
      "108\n",
      "109\n",
      "110\n",
      "111\n",
      "112\n",
      "113\n",
      "114\n",
      "115\n",
      "116\n",
      "117\n",
      "118\n",
      "119\n",
      "120\n",
      "121\n",
      "122\n",
      "123\n",
      "124\n",
      "125\n",
      "126\n",
      "127\n",
      "128\n",
      "129\n",
      "130\n",
      "131\n",
      "132\n",
      "133\n",
      "134\n",
      "135\n",
      "136\n",
      "137\n",
      "138\n",
      "139\n",
      "140\n",
      "141\n",
      "142\n",
      "143\n",
      "144\n",
      "145\n",
      "146\n",
      "147\n",
      "148\n",
      "149\n",
      "150\n",
      "151\n",
      "152\n",
      "153\n",
      "154\n",
      "155\n",
      "156\n",
      "157\n",
      "158\n",
      "159\n",
      "160\n",
      "161\n",
      "162\n",
      "163\n",
      "164\n",
      "165\n",
      "166\n",
      "167\n",
      "168\n",
      "169\n",
      "170\n",
      "171\n",
      "172\n",
      "173\n",
      "174\n",
      "175\n",
      "176\n",
      "177\n",
      "178\n",
      "179\n",
      "180\n",
      "181\n",
      "182\n",
      "183\n",
      "184\n",
      "185\n",
      "186\n",
      "187\n",
      "188\n",
      "189\n",
      "190\n",
      "191\n",
      "192\n",
      "193\n",
      "194\n",
      "195\n",
      "196\n",
      "197\n",
      "198\n",
      "199\n"
     ]
    }
   ],
   "source": [
    "runs = 100000\n",
    "trials = 200\n",
    "lfRuns = np.zeros([trials, runs+1])\n",
    "lowConfidenceLF = np.zeros(runs+1)\n",
    "highConfidenceLF = np.zeros(runs+1)\n",
    "lfRuns[:,0] = objective(x0) #np.abs(objective(x0) - objectiveStar)\n",
    "for k in range(trials):\n",
    "  print(k)\n",
    "  x_new = x0.copy()\n",
    "  x_old = x0.copy()\n",
    "  for i in range(runs):\n",
    "    x_new, x_old = lfZO(x_new, lf_step, r, objective, alpha, x_old)\n",
    "    lfRuns[k,i+1] = objective(x_new) #np.abs(objective(x_new) - objectiveStar)\n",
    "\n",
    "meanLF= np.mean(lfRuns, axis=0)"
   ]
  },
  {
   "cell_type": "code",
   "execution_count": 16,
   "metadata": {},
   "outputs": [],
   "source": [
    "for i in range(runs-1):\n",
    "  lowConfidenceLF[i], highConfidenceLF[i] = st.norm.interval(alpha=0.80, loc=np.mean(lfRuns[:,i+1]), scale=(np.sqrt(trials))*st.sem(lfRuns[:,i+1])) #st.t.interval(alpha=0.80, df=trials-1, loc=np.mean(lfRuns[:,i+1]), scale=st.sem(lfRuns[:,i+1]))\n",
    "lowConfidenceLF[-1] = lowConfidenceLF[-3]\n",
    "lowConfidenceLF[-2] = lowConfidenceLF[-3]\n",
    "highConfidenceLF[-1] = highConfidenceLF[-3]\n",
    "highConfidenceLF[-2] = highConfidenceLF[-3]"
   ]
  },
  {
   "cell_type": "code",
   "execution_count": 17,
   "metadata": {
    "id": "ABdCzdtPzD9r"
   },
   "outputs": [],
   "source": [
    "runs = 500\n",
    "trials = 200\n",
    "hfRuns = np.zeros([trials, runs+1])\n",
    "lowConfidenceHF = np.zeros(runs+1)\n",
    "highConfidenceHF = np.zeros(runs+1)\n",
    "hfRuns[:,0] = objective(x0) #np.abs(objective(x0) - objectiveStar)\n",
    "for k in range(trials):\n",
    "  x_new = x0.copy()\n",
    "  x_old = x0.copy()\n",
    "  u_old = x0.copy()\n",
    "  z_old = x0.copy()\n",
    "  for i in range(runs):\n",
    "    x_new, x_old, z_old, u_old = hfZO(x_new, hf_step, r, objective, beta, x_old, z_old, u_old)\n",
    "    hfRuns[k,i+1] = objective(x_new) #np.abs(objective(x_new) - objectiveStar)\n",
    "\n",
    "meanHF= np.mean(hfRuns, axis=0)\n",
    "for i in range(runs-1):\n",
    "  lowConfidenceHF[i], highConfidenceHF[i] = st.norm.interval(alpha=0.80, loc=np.mean(hfRuns[:,i+1]), scale=(np.sqrt(trials))*st.sem(hfRuns[:,i+1])) #st.t.interval(alpha=0.80, df=trials-1, loc=np.mean(hfRuns[:,i+1]), scale=st.sem(hfRuns[:,i+1]))\n",
    "lowConfidenceHF[-1] = lowConfidenceHF[-3]\n",
    "lowConfidenceHF[-2] = lowConfidenceHF[-3]\n",
    "highConfidenceHF[-1] = highConfidenceHF[-3]\n",
    "highConfidenceHF[-2] = highConfidenceHF[-3]"
   ]
  },
  {
   "cell_type": "code",
   "execution_count": 18,
   "metadata": {
    "id": "lb-CgqIf6jN2"
   },
   "outputs": [],
   "source": [
    "runs = 500\n",
    "trials = 200\n",
    "hlfRuns = np.zeros([trials, runs+1])\n",
    "lowConfidenceHLF = np.zeros(runs+1)\n",
    "highConfidenceHLF = np.zeros(runs+1)\n",
    "hlfRuns[:,0] = objective(x0) #np.abs(objective(x0) - objectiveStar)\n",
    "for k in range(trials):\n",
    "  x_new = x0.copy()\n",
    "  x_old = x0.copy()\n",
    "  u_old = x0.copy()\n",
    "  z_old = x0.copy()\n",
    "  for i in range(runs):\n",
    "    x_new, x_old, z_old, u_old = hlfZO(x_new, hlf_step, r, objective, alpha, beta, x_old, z_old, u_old)\n",
    "    hlfRuns[k,i+1] = objective(x_new)#np.abs(objective(x_new) - objectiveStar)\n",
    "\n",
    "meanHLF= np.mean(hlfRuns, axis=0)\n",
    "for i in range(runs-1):\n",
    "  lowConfidenceHLF[i], highConfidenceHLF[i] = st.norm.interval(alpha=0.80, loc=np.mean(hlfRuns[:,i+1]), scale=(np.sqrt(trials))*st.sem(hlfRuns[:,i+1]))  #st.t.interval(alpha=0.80, df=trials-1, loc=np.mean(hlfRuns[:,i+1]), scale=st.sem(hlfRuns[:,i+1]))\n",
    "lowConfidenceHLF[-1] = lowConfidenceHLF[-3]\n",
    "lowConfidenceHLF[-2] = lowConfidenceHLF[-3]\n",
    "highConfidenceHLF[-1] = highConfidenceHLF[-3]\n",
    "highConfidenceHLF[-2] = highConfidenceHLF[-3]"
   ]
  },
  {
   "cell_type": "markdown",
   "metadata": {
    "id": "tsPBmaDIkEqy"
   },
   "source": [
    "***Figure 2 Plot***"
   ]
  },
  {
   "cell_type": "code",
   "execution_count": 50,
   "metadata": {
    "colab": {
     "base_uri": "https://localhost:8080/",
     "height": 714
    },
    "id": "RZ7tEqbXdJEq",
    "outputId": "84e9304e-6219-41fc-8a14-fd9c056bb584"
   },
   "outputs": [
    {
     "data": {
      "image/png": "[encoded data removed]",
      "text/plain": [
       "<Figure size 1152x864 with 4 Axes>"
      ]
     },
     "metadata": {
      "needs_background": "light"
     },
     "output_type": "display_data"
    }
   ],
   "source": [
    "font = {'family' : 'DejaVu Sans',\n",
    "        'weight' : 'normal',\n",
    "        'size'   : 20}\n",
    "\n",
    "matplotlib.rc('font', **font)\n",
    "\n",
    "plt.figure(figsize=(16,12))\n",
    "plt.subplot(2,2,1)\n",
    "plt.plot(np.abs(meanVanilla-objective(x_opt)), label=\"Vanilla SZO\", linewidth=3)\n",
    "plt.fill_between(range(meanVanilla.size), np.abs(lowConfidenceVanilla-objective(x_opt)), np.abs(highConfidenceVanilla-objective(x_opt)), alpha=0.25, label=\"80% CI\")\n",
    "plt.xlabel(\"Function Queries\", fontsize=25)\n",
    "plt.ylabel(\"f(x)-f(x*)\", fontsize=25)\n",
    "plt.legend(fontsize=25)\n",
    "\n",
    "plt.subplot(2,2,2)\n",
    "plt.plot(np.abs(meanLF-objective(x_opt)), label=\"LF SZO\", linewidth=3)\n",
    "plt.fill_between(range(meanLF.size), np.abs(lowConfidenceLF-objective(x_opt)), np.abs(highConfidenceLF-objective(x_opt)), alpha=0.25,label=\"80% CI\")\n",
    "plt.xlabel(\"Function Queries\", fontsize=25)\n",
    "plt.ylabel(\"f(x)-f(x*)\", fontsize=25)\n",
    "plt.legend(fontsize=25)\n",
    "\n",
    "plt.subplot(2,2,3)\n",
    "plt.plot(np.abs(meanHF-objective(x_opt)), label=\"HF SZO\", linewidth=3)\n",
    "plt.fill_between(range(meanHF.size), np.abs(lowConfidenceHF-objective(x_opt)), np.abs(highConfidenceHF-objective(x_opt)), alpha=0.25,label=\"80% CI\")\n",
    "plt.xlabel(\"Function Queries\", fontsize=25)\n",
    "plt.ylabel(\"f(x)-f(x*)\", fontsize=25)\n",
    "plt.legend(fontsize=25)\n",
    "\n",
    "plt.subplot(2,2,4)\n",
    "plt.plot(np.abs(meanHLF-objective(x_opt)), label=\"HLF SZO\", linewidth=3)\n",
    "plt.fill_between(range(meanHLF.size), np.abs(lowConfidenceHLF-objective(x_opt)), np.abs(highConfidenceHLF-objective(x_opt)), alpha=0.25,label=\"80% CI\")\n",
    "plt.xlabel(\"Function Queries\", fontsize=25)\n",
    "plt.ylabel(\"f(x)-f(x*)\", fontsize=25)\n",
    "plt.legend(fontsize=25)\n",
    "\n",
    "plt.tight_layout(pad=2.0)\n",
    "\n",
    "plt.savefig(\"fig2.pdf\")\n",
    "plt.show()"
   ]
  },
  {
   "cell_type": "code",
   "execution_count": null,
   "metadata": {},
   "outputs": [],
   "source": []
  }
 ],
 "metadata": {
  "colab": {
   "collapsed_sections": [],
   "provenance": []
  },
  "kernelspec": {
   "display_name": "Python 3 (ipykernel)",
   "language": "python",
   "name": "python3"
  },
  "language_info": {
   "codemirror_mode": {
    "name": "ipython",
    "version": 3
   },
   "file_extension": ".py",
   "mimetype": "text/x-python",
   "name": "python",
   "nbconvert_exporter": "python",
   "pygments_lexer": "ipython3",
   "version": "3.10.7"
  }
 },
 "nbformat": 4,
 "nbformat_minor": 4
}
